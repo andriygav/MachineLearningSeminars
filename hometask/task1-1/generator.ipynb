{
  "nbformat": 4,
  "nbformat_minor": 0,
  "metadata": {
    "kernelspec": {
      "display_name": "Python 3",
      "language": "python",
      "name": "python3"
    },
    "language_info": {
      "codemirror_mode": {
        "name": "ipython",
        "version": 3
      },
      "file_extension": ".py",
      "mimetype": "text/x-python",
      "name": "python",
      "nbconvert_exporter": "python",
      "pygments_lexer": "ipython3",
      "version": "3.6.2"
    },
    "colab": {
      "name": "generator.ipynb",
      "provenance": [],
      "include_colab_link": true
    }
  },
  "cells": [
    {
      "cell_type": "markdown",
      "metadata": {
        "id": "view-in-github",
        "colab_type": "text"
      },
      "source": [
        "<a href=\"https://colab.research.google.com/github/andriygav/MachineLearningSeminars/blob/master/hometask/task1-1/generator.ipynb\" target=\"_parent\"><img src=\"https://colab.research.google.com/assets/colab-badge.svg\" alt=\"Open In Colab\"/></a>"
      ]
    },
    {
      "cell_type": "code",
      "metadata": {
        "id": "9CSy43_9KwdH",
        "outputId": "e6aadc47-1358-473c-8ec0-3879d56bb73e",
        "colab": {
          "base_uri": "https://localhost:8080/"
        }
      },
      "source": [
        "from zlib import crc32\n",
        "import numpy as np\n",
        "\n",
        "types = ['regression', 'classification']\n",
        "datasets = {'regression': [{'name': 'Servo Data Set',\n",
        "                            'url': 'https://archive.ics.uci.edu/ml/datasets/Servo'},\n",
        "                           {'name': 'Forest Fires Data Set',\n",
        "                            'url': 'https://archive.ics.uci.edu/ml/datasets/Forest+Fires'},\n",
        "                           {'name': 'Boston Housing Data Set',\n",
        "                            'url': 'https://scikit-learn.org/stable/modules/generated/sklearn.datasets.load_boston.html#sklearn.datasets.load_boston'},\n",
        "                           {'name': 'Diabetes Data Set',\n",
        "                            'url': 'https://scikit-learn.org/stable/modules/generated/sklearn.datasets.load_diabetes.html#sklearn.datasets.load_diabetes'}],\n",
        "            'classification': [{'name': 'Spambase Data Set',\n",
        "                                'url': 'https://archive.ics.uci.edu/ml/datasets/Spambase'},\n",
        "                               {'name': 'Wine Data Set',\n",
        "                                'url': 'https://scikit-learn.org/stable/modules/generated/sklearn.datasets.load_wine.html#sklearn.datasets.load_wine'},\n",
        "                               {'name': 'Breast Cancer Data Set',\n",
        "                                'url': 'https://scikit-learn.org/stable/modules/generated/sklearn.datasets.load_breast_cancer.html#sklearn.datasets.load_breast_cancer'},\n",
        "                               {'name': 'MNIST',\n",
        "                                'url': 'http://yann.lecun.com/exdb/mnist/'}]}\n",
        "methods = {'regression': ['Линейная регрессия',\n",
        "                          'Перцептрон'],\n",
        "           'classification': ['Логистическая регрессия',\n",
        "                              'Перцептрон']}\n",
        "task = dict()\n",
        "task['mail'] = input(prompt='Enter your mail: ')\n",
        "task['id'] = crc32(task['mail'].encode('utf-8'))\n",
        "np.random.seed(task['id'])\n",
        "task['type'] = np.random.choice(types)\n",
        "task['dataset'] = np.random.choice(datasets[task['type']])\n",
        "task['method'] = np.random.choice(\n",
        "    methods[task['type']], size=2, replace=False).tolist()\n",
        "\n",
        "\n",
        "task"
      ],
      "execution_count": null,
      "outputs": [
        {
          "name": "stdout",
          "output_type": "stream",
          "text": [
            "Enter your mail: grabovoy.av@phystech.edu\n"
          ]
        },
        {
          "output_type": "execute_result",
          "data": {
            "text/plain": [
              "{'mail': 'grabovoy.av@phystech.edu',\n",
              " 'id': 1191023426,\n",
              " 'type': np.str_('regression'),\n",
              " 'dataset': {'name': 'Diabetes Data Set',\n",
              "  'url': 'https://scikit-learn.org/stable/modules/generated/sklearn.datasets.load_diabetes.html#sklearn.datasets.load_diabetes'},\n",
              " 'method': ['Перцептрон', 'Линейная регрессия']}"
            ]
          },
          "metadata": {},
          "execution_count": 2
        }
      ]
    },
    {
      "cell_type": "code",
      "source": [],
      "metadata": {
        "id": "TCeJEv7tOCKl"
      },
      "execution_count": null,
      "outputs": []
    }
  ]
}